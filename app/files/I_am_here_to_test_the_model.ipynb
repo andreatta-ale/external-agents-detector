{
 "cells": [
  {
   "cell_type": "code",
   "execution_count": 4,
   "id": "b9692935-79d4-47e7-9620-adaec90270f1",
   "metadata": {},
   "outputs": [
    {
     "name": "stdout",
     "output_type": "stream",
     "text": [
      "Prediction is : T\n"
     ]
    }
   ],
   "source": [
    "# Standard library imports\n",
    "import tkinter as tk\n",
    "from tkinter import filedialog\n",
    "\n",
    "# Related third party imports\n",
    "import numpy as np\n",
    "import pandas as pd\n",
    "import joblib\n",
    "\n",
    "# Read the CSV file into a DataFrame\n",
    "analysis_data = pd.read_csv('results_to_submit.csv')\n",
    "\n",
    "# Convert the DataFrame to a list of lists\n",
    "data_to_submit = analysis_data.values.tolist()\n",
    "\n",
    "# Load the trained model\n",
    "def select_file():\n",
    "    root = tk.Tk()\n",
    "    root.withdraw()  # to hide the extra Tkinter window\n",
    "    file_path = filedialog.askopenfilename()  # opens the file explorer and saves the selected file path\n",
    "    return file_path\n",
    "\n",
    "model_filename_path = select_file()\n",
    "\n",
    "loaded_model = joblib.load(model_filename_path)\n",
    "\n",
    "# Convert the data to a numpy array and make a prediction\n",
    "new_test_data = np.array(data_to_submit)\n",
    "prediction = loaded_model.predict(new_test_data)\n",
    "\n",
    "# Print the prediction\n",
    "print(\"Prediction is :\", prediction[-1])\n"
   ]
  }
 ],
 "metadata": {
  "kernelspec": {
   "display_name": "Python 3 (ipykernel)",
   "language": "python",
   "name": "python3"
  },
  "language_info": {
   "codemirror_mode": {
    "name": "ipython",
    "version": 3
   },
   "file_extension": ".py",
   "mimetype": "text/x-python",
   "name": "python",
   "nbconvert_exporter": "python",
   "pygments_lexer": "ipython3",
   "version": "3.11.8"
  }
 },
 "nbformat": 4,
 "nbformat_minor": 5
}
