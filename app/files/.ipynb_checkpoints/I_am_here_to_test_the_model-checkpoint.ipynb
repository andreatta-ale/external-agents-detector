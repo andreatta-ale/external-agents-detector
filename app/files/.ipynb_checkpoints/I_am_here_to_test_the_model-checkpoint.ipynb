{
 "cells": [
  {
   "cell_type": "code",
   "execution_count": 1,
   "id": "b9692935-79d4-47e7-9620-adaec90270f1",
   "metadata": {},
   "outputs": [],
   "source": [
    "# Standard library imports\n",
    "import tkinter as tk\n",
    "from tkinter import filedialog\n",
    "\n",
    "# Related third party imports\n",
    "import numpy as np\n",
    "import pandas as pd\n",
    "import joblib\n",
    "\n",
    "# Read the CSV file into a DataFrame\n",
    "analysis_data = pd.read_csv('results_to_submit.csv')\n",
    "\n",
    "# Convert the DataFrame to list\n",
    "data_to_submit = analysis_data.values.tolist()"
   ]
  },
  {
   "cell_type": "code",
   "execution_count": 2,
   "id": "80eec92a-e9e9-4e47-865d-e79852ebcda1",
   "metadata": {},
   "outputs": [],
   "source": [
    "# For the case there is more than one model trained, it opens a window to choose the model\n",
    "# Load the trained model\n",
    "def select_file():\n",
    "    root = tk.Tk()\n",
    "    root.withdraw()  # to hide the extra Tkinter window\n",
    "    file_path = filedialog.askopenfilename()  # opens the file explorer and saves the selected file path\n",
    "    return file_path"
   ]
  },
  {
   "cell_type": "code",
   "execution_count": 3,
   "id": "8f6fd034-0ed4-4a4f-98f1-30dbb141c27f",
   "metadata": {},
   "outputs": [],
   "source": [
    "#model_filename_path = select_file()\n",
    "#loaded_model = joblib.load(model_filename_path)\n",
    "\n",
    "loaded_model = joblib.load('./source_data/res/xgboost_model.joblib')"
   ]
  },
  {
   "cell_type": "code",
   "execution_count": 4,
   "id": "a434f261-10ee-4af3-9a01-37578ef36fb9",
   "metadata": {},
   "outputs": [
    {
     "name": "stdout",
     "output_type": "stream",
     "text": [
      "External agent detected, prediction for XGB is 1 - positive\n"
     ]
    }
   ],
   "source": [
    "# Convert the data to a numpy array and make a prediction\n",
    "new_test_data = np.array(data_to_submit[5][-2:])\n",
    "prediction = loaded_model.predict(new_test_data.reshape(1, -1))\n",
    "\n",
    "# Print the prediction\n",
    "if prediction[0] == 1:\n",
    "    print(f\"External agent detected, prediction for XGB is {prediction.item()} - positive\")\n",
    "else:\n",
    "    print(f\"External agent not detected, prediction for XGB is {prediction.item()} - negative\")"
   ]
  }
 ],
 "metadata": {
  "kernelspec": {
   "display_name": "Python 3",
   "language": "python",
   "name": "python3"
  },
  "language_info": {
   "codemirror_mode": {
    "name": "ipython",
    "version": 3
   },
   "file_extension": ".py",
   "mimetype": "text/x-python",
   "name": "python",
   "nbconvert_exporter": "python",
   "pygments_lexer": "ipython3",
   "version": "3.11.8"
  }
 },
 "nbformat": 4,
 "nbformat_minor": 5
}
